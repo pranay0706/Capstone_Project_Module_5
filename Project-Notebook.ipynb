{
    "cells": [
        {
            "cell_type": "markdown",
            "metadata": {
                "collapsed": true
            },
            "source": "# Capstone Project- Battle Of Neighborhoods\n## Introduction Of Problem"
        },
        {
            "cell_type": "markdown",
            "metadata": {},
            "source": "In this project, Iam interested in New York City data. First, we will find the most visited commercial shops according to the number of check-ins,  then we will try to find the neighborhoods that are lacking the selected type of shop which could be potential business opportunity."
        },
        {
            "cell_type": "markdown",
            "metadata": {},
            "source": "## Target Audience\n\nThe Target audience of this report is anyone that is interested in opening the shop, but have no idea what kind of and in which neighborhood."
        },
        {
            "cell_type": "markdown",
            "metadata": {},
            "source": "# Data Section"
        },
        {
            "cell_type": "markdown",
            "metadata": {},
            "source": "The data comes from Dingqi Yang from the following link https://sites.google.com/site/yangdingqi/home/foursquare-dataset. It contains 227,428 check-ins in New York city. The data contains a file in tsv format. Each file contains 8 columns, which are:\n\nUser ID (anonymized)\n\nVenue ID (Foursquare)\n\nVenue category ID (Foursquare)\n\nVenue category name (Foursquare)\n\nLatitude\n\nLongitude\n\nTime zone offset in minutes (The offset in minutes between when this check-in occurred and the same time in UTC)\n\nUTC time"
        },
        {
            "cell_type": "markdown",
            "metadata": {},
            "source": "## Application\n\nWe will find the most visited type of shop (commercial) according to the number of check-ins given in the data, then we will try to find neighborhoods that has none of this type of shop.\n\nExamples are for 2000 venues, and the red dot is the center neighborhood which has the most number of Bars between selected coordinates. We did find two neighborhoods that are closest to it having none Bars within 4 kilometers.\n\n   "
        },
        {
            "cell_type": "markdown",
            "metadata": {},
            "source": "![title](img/NY-2.png)"
        },
        {
            "cell_type": "markdown",
            "metadata": {},
            "source": "![title](img/NY-1.png)"
        },
        {
            "cell_type": "markdown",
            "metadata": {},
            "source": "![title](img/NY-3.png)"
        },
        {
            "cell_type": "markdown",
            "metadata": {},
            "source": "# Result & Conclusion"
        },
        {
            "cell_type": "markdown",
            "metadata": {},
            "source": "In our samples of 2000 venues, we did find more than 10 coordinates that has no bar within 4km sphere. And we did manage to get the neighborhoods names from foursquare database and pin down the two closest neighborhoods, \"Bedford-Stuyvesant\" and \"Turtle Bay\", into map. Of course, it should not be forgotten that the data used above is almost 6 years old so further research might be needed. Anyways,the resulting record to the data in hand can be checked from the map and analysis above can be use for future enterpreneurs"
        }
    ],
    "metadata": {
        "kernelspec": {
            "display_name": "Python 3.6",
            "language": "python",
            "name": "python3"
        },
        "language_info": {
            "codemirror_mode": {
                "name": "ipython",
                "version": 3
            },
            "file_extension": ".py",
            "mimetype": "text/x-python",
            "name": "python",
            "nbconvert_exporter": "python",
            "pygments_lexer": "ipython3",
            "version": "3.6.8"
        }
    },
    "nbformat": 4,
    "nbformat_minor": 1
}